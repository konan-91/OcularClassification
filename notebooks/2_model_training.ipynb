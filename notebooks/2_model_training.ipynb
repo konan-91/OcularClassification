{
  "nbformat": 4,
  "nbformat_minor": 0,
  "metadata": {
    "colab": {
      "provenance": [],
      "authorship_tag": "ABX9TyMoA+3aOZyS/BM/ZIoz63JC",
      "include_colab_link": true
    },
    "kernelspec": {
      "name": "python3",
      "display_name": "Python 3"
    },
    "language_info": {
      "name": "python"
    }
  },
  "cells": [
    {
      "cell_type": "markdown",
      "metadata": {
        "id": "view-in-github",
        "colab_type": "text"
      },
      "source": [
        "<a href=\"https://colab.research.google.com/github/konan-91/OcularClassification/blob/master/notebooks/2_model_training.ipynb\" target=\"_parent\"><img src=\"https://colab.research.google.com/assets/colab-badge.svg\" alt=\"Open In Colab\"/></a>"
      ]
    },
    {
      "cell_type": "markdown",
      "source": [
        "# Training the Model\n",
        "\n",
        "We now have four folders of topoplot images (which you should zip into *img_data.zip*) that will be used to train our model. We will utilise the fast.ai library - a deep learning library built ontop of PyTorch that provides high level abstractions for model training."
      ],
      "metadata": {
        "id": "bBo1nCRbWyTy"
      }
    },
    {
      "cell_type": "code",
      "source": [
        "from fastai.vision.all import *\n",
        "from fastai.vision.widgets import *"
      ],
      "metadata": {
        "id": "0Eol_6iKXajg"
      },
      "execution_count": 3,
      "outputs": []
    },
    {
      "cell_type": "code",
      "execution_count": null,
      "metadata": {
        "id": "eC5Lhp5UjnKU"
      },
      "outputs": [],
      "source": [
        "!unzip -q /content/img_data.zip\n",
        "!rm /content/img_data.zip"
      ]
    },
    {
      "cell_type": "markdown",
      "source": [
        "As our model's purpose is to classify blinks, we should split our data into positive and negative examples. However, we should ensure each cateogry is roughly the same size. We will use the entirety of the img_blinks dataset, and sample from img_rest, h_saccades, and v_saccades using a 50/25/25 split."
      ],
      "metadata": {
        "id": "CvGkeQ3uYdJ8"
      }
    },
    {
      "cell_type": "code",
      "source": [
        "img_positive = []\n",
        "\n"
      ],
      "metadata": {
        "id": "ZSrnJZNZX7q0"
      },
      "execution_count": null,
      "outputs": []
    },
    {
      "cell_type": "code",
      "source": [
        "img_negative = []\n",
        "\n"
      ],
      "metadata": {
        "id": "BYFUq-1Hbiyu"
      },
      "execution_count": null,
      "outputs": []
    }
  ]
}
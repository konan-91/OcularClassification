{
  "nbformat": 4,
  "nbformat_minor": 0,
  "metadata": {
    "colab": {
      "provenance": [],
      "authorship_tag": "ABX9TyPd5vdZifkRhx1FTlZdYSp0",
      "include_colab_link": true
    },
    "kernelspec": {
      "name": "python3",
      "display_name": "Python 3"
    },
    "language_info": {
      "name": "python"
    }
  },
  "cells": [
    {
      "cell_type": "markdown",
      "metadata": {
        "id": "view-in-github",
        "colab_type": "text"
      },
      "source": [
        "<a href=\"https://colab.research.google.com/github/konan-91/OcularClassification/blob/master/notebooks/3_model_testing.ipynb\" target=\"_parent\"><img src=\"https://colab.research.google.com/assets/colab-badge.svg\" alt=\"Open In Colab\"/></a>"
      ]
    },
    {
      "cell_type": "markdown",
      "source": [
        "# Benchmarking Our Model\n",
        "\n",
        "While training we were given various metrics regarding the model's accuracy. However, in order to test whether it generalises to novel data, we will test it on an entirely new dataset. We can also benchmark it against MNEPython's built in blink removal algorithms, to get a sense of how well it performs in practice.\n",
        "\n"
      ],
      "metadata": {
        "id": "uicxbpUsANUX"
      }
    },
    {
      "cell_type": "code",
      "execution_count": null,
      "metadata": {
        "id": "g8MQ84sroU7y"
      },
      "outputs": [],
      "source": [
        "from fastai.vision.all import *\n",
        "from fastai.vision.widgets import *"
      ]
    },
    {
      "cell_type": "markdown",
      "source": [
        "Loading the model and benchmark dataset."
      ],
      "metadata": {
        "id": "u7AqDEssE8Z5"
      }
    },
    {
      "cell_type": "code",
      "source": [
        "learn = load_learner('/content/ocular_classifier_25.pkl')"
      ],
      "metadata": {
        "id": "7nCWfVoUB3da"
      },
      "execution_count": null,
      "outputs": []
    },
    {
      "cell_type": "code",
      "source": [
        "!unzip /content/osf_01.zip\n",
        "!rm -rf /content/osf_01.zip"
      ],
      "metadata": {
        "id": "3RL3yaorE-z5"
      },
      "execution_count": null,
      "outputs": []
    },
    {
      "cell_type": "markdown",
      "source": [
        "## Evaluating Model on Test Data\n",
        "\n",
        "Run on epoched MNE data, calculate accuracy"
      ],
      "metadata": {
        "id": "xJhOfsIMb5gE"
      }
    },
    {
      "cell_type": "code",
      "source": [],
      "metadata": {
        "id": "PVeLxvhTc6mh"
      },
      "execution_count": null,
      "outputs": []
    },
    {
      "cell_type": "markdown",
      "source": [
        "## Testing ICA on Test Data\n",
        "\n",
        "McNemar's Test is a statistical test for paired categorical data."
      ],
      "metadata": {
        "id": "nW30989EciBJ"
      }
    },
    {
      "cell_type": "code",
      "source": [],
      "metadata": {
        "id": "dEKV5h8sd0cq"
      },
      "execution_count": null,
      "outputs": []
    },
    {
      "cell_type": "markdown",
      "source": [
        "## McNemar’s Test\n",
        "\n",
        "Testing whether the two methods' performances differ significantly from one another  "
      ],
      "metadata": {
        "id": "8mRBeQZMcqty"
      }
    },
    {
      "cell_type": "code",
      "source": [
        "from statsmodels.stats.contingency_tables import mcnemar\n",
        "import numpy as np"
      ],
      "metadata": {
        "id": "oLDoyvawc68I"
      },
      "execution_count": 1,
      "outputs": []
    }
  ]
}
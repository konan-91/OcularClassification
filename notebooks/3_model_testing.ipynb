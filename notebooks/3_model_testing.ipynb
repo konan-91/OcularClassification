{
  "nbformat": 4,
  "nbformat_minor": 0,
  "metadata": {
    "colab": {
      "provenance": [],
      "authorship_tag": "ABX9TyPGjcmitaABDJ9uDRf4NcJM",
      "include_colab_link": true
    },
    "kernelspec": {
      "name": "python3",
      "display_name": "Python 3"
    },
    "language_info": {
      "name": "python"
    }
  },
  "cells": [
    {
      "cell_type": "markdown",
      "metadata": {
        "id": "view-in-github",
        "colab_type": "text"
      },
      "source": [
        "<a href=\"https://colab.research.google.com/github/konan-91/OcularClassification/blob/master/notebooks/3_model_testing.ipynb\" target=\"_parent\"><img src=\"https://colab.research.google.com/assets/colab-badge.svg\" alt=\"Open In Colab\"/></a>"
      ]
    },
    {
      "cell_type": "markdown",
      "source": [
        "# Benchmarking Our Model\n",
        "\n",
        "While training we were given various metrics regarding the model's accuracy. However, in order to test whether it generalises to novel data, we will test it on an entirely new dataset. We can also benchmark it against MNEPython's built in blink removal algorithms, to get a sense of how well it performs in practice.\n",
        "\n"
      ],
      "metadata": {
        "id": "uicxbpUsANUX"
      }
    },
    {
      "cell_type": "code",
      "execution_count": 1,
      "metadata": {
        "id": "g8MQ84sroU7y"
      },
      "outputs": [],
      "source": [
        "from fastai.vision.all import *\n",
        "from fastai.vision.widgets import *"
      ]
    },
    {
      "cell_type": "markdown",
      "source": [
        "Loading the model and benchmark dataset."
      ],
      "metadata": {
        "id": "u7AqDEssE8Z5"
      }
    },
    {
      "cell_type": "code",
      "source": [
        "learn = load_learner('/content/ocular_classifier.pkl')"
      ],
      "metadata": {
        "id": "7nCWfVoUB3da"
      },
      "execution_count": 2,
      "outputs": []
    },
    {
      "cell_type": "code",
      "source": [
        "!unzip /content/EEG-EyeBlinks-public.zip\n",
        "!rm -rf /content/EEG-EyeBlinks-public.zip"
      ],
      "metadata": {
        "id": "3RL3yaorE-z5"
      },
      "execution_count": null,
      "outputs": []
    }
  ]
}
{
  "nbformat": 4,
  "nbformat_minor": 0,
  "metadata": {
    "colab": {
      "provenance": [],
      "authorship_tag": "ABX9TyO6aIS0qoIb2Dx+FSkSl7l7",
      "include_colab_link": true
    },
    "kernelspec": {
      "name": "python3",
      "display_name": "Python 3"
    },
    "language_info": {
      "name": "python"
    }
  },
  "cells": [
    {
      "cell_type": "markdown",
      "metadata": {
        "id": "view-in-github",
        "colab_type": "text"
      },
      "source": [
        "<a href=\"https://colab.research.google.com/github/konan-91/OcularClassification/blob/master/notebooks/1_data_processing.ipynb\" target=\"_parent\"><img src=\"https://colab.research.google.com/assets/colab-badge.svg\" alt=\"Open In Colab\"/></a>"
      ]
    },
    {
      "cell_type": "markdown",
      "source": [
        "#Generating Topoplots from Blinks\n",
        "\n",
        "Our first step is to transform the dataset of ocular & non-ocular EEG data into spectograms (image files) that we can use to train the model."
      ],
      "metadata": {
        "id": "kjKsLwRmuTwr"
      }
    },
    {
      "cell_type": "code",
      "execution_count": 6,
      "metadata": {
        "id": "lmlHfeqphonm"
      },
      "outputs": [],
      "source": [
        "!pip install mne -q\n",
        "!pip install pymatreader -q"
      ]
    },
    {
      "cell_type": "code",
      "source": [
        "import mne\n",
        "import pymatreader\n",
        "import os"
      ],
      "metadata": {
        "id": "YPdCmyBcuquB"
      },
      "execution_count": 7,
      "outputs": []
    },
    {
      "cell_type": "markdown",
      "source": [
        "##Loading the data\n",
        "\n",
        "Note: if you are running this notebook yourself, please ensure the zipped osf dataset is present at the root of your working directory. In Colab, this is /content."
      ],
      "metadata": {
        "id": "cXBHVf3on3PK"
      }
    },
    {
      "cell_type": "code",
      "source": [
        "!unzip -q /content/osfstorage-archive.zip\n",
        "!rm /content/osfstorage-archive.zip"
      ],
      "metadata": {
        "id": "pfyWeuScn0d9"
      },
      "execution_count": 3,
      "outputs": []
    },
    {
      "cell_type": "code",
      "source": [
        "def load_data(folderpath, data):\n",
        "    for filename in os.listdir(folderpath):\n",
        "        if filename.endswith(\".set\"):\n",
        "            filepath = os.path.join(folderpath, filename)\n",
        "            epochs = mne.read_epochs_eeglab(filepath) # The dataset we use comes pre-epoched\n",
        "            data.append(epochs)"
      ],
      "metadata": {
        "id": "3RFziJVtrj1n"
      },
      "execution_count": 4,
      "outputs": []
    },
    {
      "cell_type": "code",
      "source": [
        "#mne.set_log_level('ERROR')\n",
        "path = \"/content/osfstorage-archive\"\n",
        "participants_data = [] # List of participants, who are objects containing (many) epochs\n",
        "\n",
        "for study in os.listdir(path):\n",
        "    study_path = os.path.join(path, study)\n",
        "    if os.path.isdir(study_path):\n",
        "        load_data(study_path, participants_data)"
      ],
      "metadata": {
        "id": "4w5wOjemyi-r"
      },
      "execution_count": null,
      "outputs": []
    },
    {
      "cell_type": "code",
      "source": [
        "participant_1 = participants_data[0]\n",
        "print(participant_1.info)\n",
        "\n",
        "# TODO: understand the structure of EEGlabs objects, and separate individual events (eg. individual blinks)"
      ],
      "metadata": {
        "colab": {
          "base_uri": "https://localhost:8080/"
        },
        "id": "D7clgk6J8_uL",
        "outputId": "4f9c38fd-282c-44f6-d9d5-c05663a5f6bd"
      },
      "execution_count": 51,
      "outputs": [
        {
          "output_type": "stream",
          "name": "stdout",
          "text": [
            "<Info | 8 non-empty values\n",
            " bads: []\n",
            " ch_names: FPz, FCz, F7, F3, Fz, F4, F8, FC5, FC1, FC2, FC6, T7, C3, Cz, ...\n",
            " chs: 80 EEG, 3 EOG\n",
            " custom_ref_applied: False\n",
            " dig: 83 items (3 Cardinal, 80 EEG)\n",
            " highpass: 0.0 Hz\n",
            " lowpass: 100.0 Hz\n",
            " meas_date: unspecified\n",
            " nchan: 83\n",
            " projs: []\n",
            " sfreq: 200.0 Hz\n",
            ">\n"
          ]
        }
      ]
    }
  ]
}